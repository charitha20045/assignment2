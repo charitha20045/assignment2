{
  "nbformat": 4,
  "nbformat_minor": 0,
  "metadata": {
    "colab": {
      "provenance": []
    },
    "kernelspec": {
      "name": "python3",
      "display_name": "Python 3"
    },
    "language_info": {
      "name": "python"
    }
  },
  "cells": [
    {
      "cell_type": "code",
      "execution_count": 1,
      "metadata": {
        "colab": {
          "base_uri": "https://localhost:8080/"
        },
        "id": "_Xo8qO6Jz3VS",
        "outputId": "fc63cad5-1c69-42da-d392-d1a933ad260a"
      },
      "outputs": [
        {
          "output_type": "stream",
          "name": "stdout",
          "text": [
            "Filtered DataFrame:\n",
            "     Transaction ID        Date Product Category  \\\n",
            "0             10001  2024-01-01      Electronics   \n",
            "6             10007  2024-01-07      Electronics   \n",
            "7             10008  2024-01-08  Home Appliances   \n",
            "12            10013  2024-01-13      Electronics   \n",
            "35            10036  2024-02-05           Sports   \n",
            "36            10037  2024-02-06      Electronics   \n",
            "37            10038  2024-02-07  Home Appliances   \n",
            "42            10043  2024-02-12      Electronics   \n",
            "66            10067  2024-03-07      Electronics   \n",
            "72            10073  2024-03-13      Electronics   \n",
            "85            10086  2024-03-26  Home Appliances   \n",
            "102           10103  2024-04-12      Electronics   \n",
            "120           10121  2024-04-30      Electronics   \n",
            "132           10133  2024-05-12      Electronics   \n",
            "138           10139  2024-05-18      Electronics   \n",
            "162           10163  2024-06-11      Electronics   \n",
            "216           10217  2024-08-04      Electronics   \n",
            "\n",
            "                          Product Name  Units Sold  Unit Price  Total Revenue  \\\n",
            "0                        iPhone 14 Pro           2      999.99        1999.98   \n",
            "6                  MacBook Pro 16-inch           1     2499.99        2499.99   \n",
            "7                 Blueair Classic 480i           2      599.99        1199.98   \n",
            "12               Samsung Galaxy Tab S8           2      749.99        1499.98   \n",
            "35                        Peloton Bike           1     1895.00        1895.00   \n",
            "36                Apple Watch Series 8           3      399.99        1199.97   \n",
            "37                          Roomba i7+           2      799.99        1599.98   \n",
            "42                  GoPro HERO10 Black           3      399.99        1199.97   \n",
            "66                  Samsung QLED 4K TV           1     1199.99        1199.99   \n",
            "72              HP Spectre x360 Laptop           1     1599.99        1599.99   \n",
            "85                          LG OLED TV           2     1299.99        2599.98   \n",
            "102                Canon EOS R5 Camera           1     3899.99        3899.99   \n",
            "120                     Apple iPad Air           2      599.99        1199.98   \n",
            "132         Microsoft Surface Laptop 4           1     1299.99        1299.99   \n",
            "138  Samsung Odyssey G9 Gaming Monitor           1     1499.99        1499.99   \n",
            "162                  Apple MacBook Air           1     1199.99        1199.99   \n",
            "216          Apple MacBook Pro 16-inch           1     2399.00        2399.00   \n",
            "\n",
            "            Region Payment Method  \n",
            "0    North America    Credit Card  \n",
            "6    North America    Credit Card  \n",
            "7           Europe         PayPal  \n",
            "12   North America    Credit Card  \n",
            "35            Asia    Credit Card  \n",
            "36   North America    Credit Card  \n",
            "37          Europe         PayPal  \n",
            "42   North America    Credit Card  \n",
            "66   North America    Credit Card  \n",
            "72   North America    Credit Card  \n",
            "85          Europe         PayPal  \n",
            "102  North America    Credit Card  \n",
            "120  North America    Credit Card  \n",
            "132  North America    Credit Card  \n",
            "138  North America    Credit Card  \n",
            "162  North America    Credit Card  \n",
            "216  North America    Credit Card  \n",
            "\n",
            "Summary Statistics:\n",
            "       Transaction ID  Units Sold   Unit Price  Total Revenue\n",
            "count       240.00000  240.000000   240.000000     240.000000\n",
            "mean      10120.50000    2.158333   236.395583     335.699375\n",
            "std          69.42622    1.322454   429.446695     485.804469\n",
            "min       10001.00000    1.000000     6.500000       6.500000\n",
            "25%       10060.75000    1.000000    29.500000      62.965000\n",
            "50%       10120.50000    2.000000    89.990000     179.970000\n",
            "75%       10180.25000    3.000000   249.990000     399.225000\n",
            "max       10240.00000   10.000000  3899.990000    3899.990000\n",
            "\n",
            "Mean Total Revenue: 335.699375\n",
            "Median Total Revenue: 179.97\n",
            "Standard Deviation of Total Revenue: 485.8044685651321\n"
          ]
        }
      ],
      "source": [
        "import pandas as pd\n",
        "\n",
        "\n",
        "df = pd.read_csv(\"/content/Online Sales Data.csv\")\n",
        "\n",
        "\n",
        "filtered_df = df[df['Total Revenue'] > 1000]\n",
        "\n",
        "\n",
        "df_dropped = df.dropna()\n",
        "\n",
        "\n",
        "summary_stats = df.describe()\n",
        "mean_TotalRevenue= df['Total Revenue'].mean()\n",
        "median_TotalRevenue = df['Total Revenue'].median()\n",
        "std_TotalRevenue = df['Total Revenue'].std()\n",
        "\n",
        "print(\"Filtered DataFrame:\")\n",
        "print(filtered_df)\n",
        "print(\"\\nSummary Statistics:\")\n",
        "print(summary_stats)\n",
        "print(f\"\\nMean Total Revenue: {mean_TotalRevenue}\")\n",
        "print(f\"Median Total Revenue: {median_TotalRevenue}\")\n",
        "print(f\"Standard Deviation of Total Revenue: {std_TotalRevenue}\")"
      ]
    }
  ]
}